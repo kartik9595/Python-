{
 "cells": [
  {
   "cell_type": "markdown",
   "metadata": {},
   "source": [
    "# Constraint programming\n",
    "\n",
    "\n",
    "We will use and import the `facile` library which gives access to a constraint programming API in Python.  \n",
    "\n",
    "This notebook goes through basic notions of constraint programming, at a reasonable pace.  \n",
    "The lecturer will explain more advanced concepts as the group moves forward and/or on demand.\n",
    "\n",
    "- Solutions appear on demand as you uncomment the `%load` comments, but the point of the session is to **try first** without being stuck.\n",
    "\n",
    "- You will find in the notebook blocks of different colors:\n",
    "\n",
    "<div class=\"alert alert-warning\">\n",
    "**Questions** appear in yellow.\n",
    "</div>\n",
    "\n",
    "<div class=\"alert alert-danger\">\n",
    "You should **fully understand** what appears in red.\n",
    "</div>\n",
    "\n",
    "<div class=\"alert alert-info\">\n",
    "Blue blocks push *beyond the scope* of this course.\n",
    "</div>"
   ]
  },
  {
   "cell_type": "code",
   "execution_count": 2,
   "metadata": {
    "collapsed": true,
    "scrolled": true
   },
   "outputs": [],
   "source": [
    "import facile\n",
    "%matplotlib inline"
   ]
  },
  {
   "cell_type": "markdown",
   "metadata": {},
   "source": [
    "<div class=\"alert alert-success\">\n",
    "<b>Example :</b><br />\n",
    "We consider the problem of two variables taking their values on $a,b \\in \\{0,1\\}$, and constrained by $a \\neq b$.<br />\n",
    "\n",
    "Find admissible values for $a$ and $b$.\n",
    "</div>"
   ]
  },
  {
   "cell_type": "markdown",
   "metadata": {},
   "source": [
    "The basic syntax of `facile` goes as follows:"
   ]
  },
  {
   "cell_type": "code",
   "execution_count": 3,
   "metadata": {},
   "outputs": [
    {
     "name": "stdout",
     "output_type": "stream",
     "text": [
      "Solution found : a=0, b=1\n"
     ]
    }
   ],
   "source": [
    "# Variables\n",
    "# a and b are both defined on [0, 1]\n",
    "a = facile.variable([0, 1])\n",
    "b = facile.variable([0, 1])\n",
    "\n",
    "# Constraints\n",
    "# Expressions and constraints can be built with usual operators: +, *, <=, etc.\n",
    "facile.constraint(a != b)\n",
    "\n",
    "# Resolution\n",
    "# We want a solution for a and b and get their values with method .value()\n",
    "sol = facile.solve([a, b])\n",
    "\n",
    "assert sol, \"No solution found\"\n",
    "print (\"Solution found : a={}, b={}\".format(a.value(), b.value()))"
   ]
  },
  {
   "cell_type": "markdown",
   "metadata": {},
   "source": [
    "## Basic problems"
   ]
  },
  {
   "cell_type": "markdown",
   "metadata": {},
   "source": [
    "<div class=\"alert alert-warning\">\n",
    "<b>Problem #1: (super easy)</b><br />\n",
    "\n",
    "Consider the following problem. Modify it so as it has a solution.\n",
    "</div>"
   ]
  },
  {
   "cell_type": "code",
   "execution_count": 4,
   "metadata": {},
   "outputs": [
    {
     "name": "stdout",
     "output_type": "stream",
     "text": [
      "Solution found : a=0, b=1, c=2\n"
     ]
    }
   ],
   "source": [
    "# Variables\n",
    "a = facile.variable([0, 1])\n",
    "b = facile.variable([0, 1])\n",
    "c = facile.variable([0, 2])\n",
    "\n",
    "# Constraints\n",
    "facile.constraint(a != b)\n",
    "facile.constraint(b != c)\n",
    "facile.constraint(c != a)\n",
    "\n",
    "# Resolution\n",
    "if facile.solve([a, b, c]):\n",
    "    print (\"Solution found : a=%d, b=%d, c=%d\" % (a.value(), b.value(), c.value()))\n",
    "else:\n",
    "    print (\"No solution found\")"
   ]
  },
  {
   "cell_type": "markdown",
   "metadata": {},
   "source": [
    "<div class=\"alert alert-warning\">\n",
    "<b>Problem #2: (easy)</b><br />\n",
    "\n",
    "Find four integers so that their sum is 711 and their product is 711000000.\n",
    "</div>\n",
    "\n",
    "<div class=\"alert alert-info\">\n",
    "The original problem is stated as follows:\n",
    "<blockquote>\n",
    "A guy walks into a 7-11 store and selects four items to buy. The clerk at the counter informs the gentleman that the total cost of the four items is 7.11 dollars. He was completely surprised that the cost was the same as the name of the store. The clerk informed the man that he simply multiplied the cost of each item and arrived at the total. The customer calmly informed the clerk that the items should be added and not multiplied. The clerk then added the items together and informed the customer that the total was still exactly 7.11 dollars.\n",
    "<br/><br/>\n",
    "What are the exact costs of each item?\n",
    "</blockquote>\n",
    "\n",
    "We can find a beautiful [algebraic resolution](http://everydayexplanations.blogspot.fr/2011/08/711-problem.html) which may help to define the domains of each value.\n",
    "\n",
    "</div>"
   ]
  },
  {
   "cell_type": "code",
   "execution_count": 17,
   "metadata": {},
   "outputs": [
    {
     "name": "stdout",
     "output_type": "stream",
     "text": [
      "Solution found: a=316, b=150, c=120, d=125\n"
     ]
    }
   ],
   "source": [
    "# Variables\n",
    "# There is a risk of integer overflow when computing a*b*c*d\n",
    "# We need small domains...\n",
    "\n",
    "a = facile.variable(range(0, 320))\n",
    "b = facile.variable(range(0, 160))\n",
    "c = facile.variable(range(0, 130))\n",
    "d = facile.variable(range(0, 130))\n",
    "\n",
    "# Constraints\n",
    "facile.constraint(a+b+c+d==711)\n",
    "facile.constraint(a*b*c*d==711000000)\n",
    "# Resolution\n",
    "sol = facile.solve([a, b, c, d], backtrack=True)\n",
    "print(\"Solution found: a={}, b={}, c={}, d={}\".format(*sol.solution))\n"
   ]
  },
  {
   "cell_type": "markdown",
   "metadata": {},
   "source": [
    "<div class=\"alert alert-info\">\n",
    "**Let's look further into this!** (out of scope)<br />\n",
    "\n",
    "Let's check how many backtracks occur during the resolution process,  \n",
    "and have a look at the constraint propagation effect on the domain of each variable.\n",
    "</div>"
   ]
  },
  {
   "cell_type": "code",
   "execution_count": 7,
   "metadata": {},
   "outputs": [
    {
     "name": "stdout",
     "output_type": "stream",
     "text": [
      "Domains after posting the sum constraint\n",
      "  [291, 292, 293, 294, 295, 296, ..., 320] (size 30)\n",
      "  [131, 132, 133, 134, 135, 136, ..., 160] (size 30)\n",
      "  [101, 102, 103, 104, 105, 106, ..., 130] (size 30)\n",
      "  [101, 102, 103, 104, 105, 106, ..., 130] (size 30)\n",
      "\n",
      "Domains after posting the mul constraint\n",
      "  [300, 301, 302, 303, 304, 305, ..., 320] (size 21)\n",
      "  [132, 133, 134, 135, 136, 137, ..., 160] (size 29)\n",
      "  [107, 108, 109, 110, 111, 112, ..., 130] (size 24)\n",
      "  [107, 108, 109, 110, 111, 112, ..., 130] (size 24)\n",
      "\n",
      "Backtracks                    : 2\n",
      "Current solution              : [316, 150, 120, 125]\n",
      "Resolution status             : True\n",
      "Resolution time               : 0.00014s\n",
      "\n",
      "Solution found: a=316, b=150, c=120, d=125\n"
     ]
    }
   ],
   "source": [
    "# %load seven_eleven.py\n",
    "# Variables\n",
    "# There is a risk of integer overflow when computing a*b*c*d\n",
    "# We need small domains...\n",
    "import facile\n",
    "a = facile.variable(range(0, 321))\n",
    "b = facile.variable(range(0, 161))\n",
    "c = facile.variable(range(0, 131))\n",
    "d = facile.variable(range(0, 131))\n",
    "\n",
    "# Constraints\n",
    "\n",
    "# The problem\n",
    "facile.constraint(a + b + c + d == 711)\n",
    "\n",
    "print(\"Domains after posting the sum constraint\")\n",
    "for x in [a, b, c, d]:\n",
    "    domain = x.domain()\n",
    "    print(\"  {!r} (size {})\".format(domain, len(domain)))\n",
    "\n",
    "facile.constraint(a * b * c * d == 711000000)\n",
    "\n",
    "print(\"\\nDomains after posting the mul constraint\")\n",
    "for x in [a, b, c, d]:\n",
    "    domain = x.domain()\n",
    "    print(\"  {!r} (size {})\".format(domain, len(domain)))\n",
    "\n",
    "print()\n",
    "\n",
    "# Resolution\n",
    "sol = facile.solve([a, b, c, d], backtrack=True)\n",
    "\n",
    "# wow ! Only two backtracks !!\n",
    "print(sol)\n",
    "print(\"Solution found: a={}, b={}, c={}, d={}\".format(*sol.solution))\n"
   ]
  },
  {
   "cell_type": "markdown",
   "metadata": {},
   "source": [
    "<div class=\"alert alert-warning\">\n",
    "<b>Problem #3: (easy)</b><br />\n",
    "Solve SEND + MORE = MONEY (two methods). Pretty-print the result.\n",
    "</div>\n",
    "\n",
    "You may need to use the following constraint:\n",
    "```python\n",
    "c1 = facile.alldifferent([a, b, c, ...])\n",
    "# to be posted to the solver\n",
    "facile.constraint(c1)\n",
    "```\n"
   ]
  },
  {
   "cell_type": "code",
   "execution_count": 26,
   "metadata": {},
   "outputs": [
    {
     "name": "stdout",
     "output_type": "stream",
     "text": [
      "Solution found: vs=9, ve=5, vn=6, vd=7, vm=1, vo=0, vr=8, vy=2\n",
      "Computing Again: 10652 and 10652\n"
     ]
    }
   ],
   "source": [
    "[s, e, n, d, m, o, r, y] = [facile.variable(range(0,10)) for i in range(8)]\n",
    "\n",
    "c1 = facile.alldifferent([s, e, n, d, m, o, r, y])\n",
    "facile.constraint(s>0)\n",
    "facile.constraint(m>0)\n",
    "facile.constraint(c1)\n",
    "facile.constraint(s*1000 + e*100 + n*10 + d + m*1000 + o*100 + r*10 + e == m*10000+ o*1000 + n*100 + e*10 + y)\n",
    "\n",
    "if facile.solve([s, e, n, d, m, o, r, y]):\n",
    "    [vs, ve, vn, vd, vm, vo, vr, vy] = [x.value() for x in [s, e, n, d, m, o, r, y]]\n",
    "    print(\"Solution found: vs=%d, ve=%d, vn=%d, vd=%d, vm=%d, vo=%d, vr=%d, vy=%d\" % (vs, ve, vn, vd, vm, vo, vr, vy))\n",
    "    print(\"Computing Again: %d and %d\" % (vs*1000 + ve*100 + vn*10 + vd + vm*1000 + vo*100 + vr*10 + ve , vm*10000+ vo*1000 + vn*100 + ve*10 + vy))\n",
    "else:\n",
    "    print(\"No Solution Found\")\n"
   ]
  },
  {
   "cell_type": "code",
   "execution_count": 9,
   "metadata": {},
   "outputs": [
    {
     "name": "stdout",
     "output_type": "stream",
     "text": [
      "Solution found :\n",
      "  9567\n",
      "+ 1085\n",
      "------\n",
      " 10652\n"
     ]
    }
   ],
   "source": [
    "# %load send_more_money.py\n",
    "# The list comprehension mechanism is always helpful!\n",
    "[s, e, n, d, m, o, r, y] = [facile.variable(range(10)) for i in range(8)]\n",
    "\n",
    "# A shortcut\n",
    "letters = [s, e, n, d, m, o, r, y]\n",
    "\n",
    "# Constraints\n",
    "facile.constraint(s > 0)\n",
    "facile.constraint(m > 0)\n",
    "facile.constraint(facile.alldifferent(letters))\n",
    "\n",
    "import functools # I am too lazy to write 1000 * s + 100 * etc.\n",
    "\n",
    "send = functools.reduce(lambda x, y: 10*x + y, [s, e, n, d])\n",
    "more = functools.reduce(lambda x, y: 10*x + y, [m, o, r, e])\n",
    "money = functools.reduce(lambda x, y: 10*x + y, [m, o, n, e, y])\n",
    "\n",
    "facile.constraint (send + more == money)\n",
    "\n",
    "if facile.solve(letters):\n",
    "    [vs, ve, vn, vd, vm, vo, vr, vy] = [x.value() for x in letters]\n",
    "    print (\"Solution found :\")\n",
    "    print\n",
    "    print (\"  %d%d%d%d\" % (vs, ve, vn, vd))\n",
    "    print (\"+ %d%d%d%d\" % (vm, vo, vr, ve))\n",
    "    print (\"------\")\n",
    "    print (\" %d%d%d%d%d\" % (vm, vo, vn, ve, vy))\n",
    "else:\n",
    "    print (\"No solution found\")"
   ]
  },
  {
   "cell_type": "code",
   "execution_count": null,
   "metadata": {
    "collapsed": true
   },
   "outputs": [],
   "source": [
    "# %load send_more_money_alt.py\n",
    "# The list comprehension mechanism is always helpful!\n",
    "[s, e, n, d, m, o, r, y] = [facile.variable(range(10)) for i in range(8)]\n",
    "\n",
    "# A shortcut\n",
    "letters = [s, e, n, d, m, o, r, y]\n",
    "\n",
    "# Retenues\n",
    "[c0, c1, c2] = [facile.variable([0, 1]) for i in range(3)]\n",
    "\n",
    "# Constraints\n",
    "facile.constraint(s > 0)\n",
    "facile.constraint(m > 0)\n",
    "facile.constraint(facile.alldifferent(letters))\n",
    "facile.constraint(d + e == y + 10 * c0)\n",
    "facile.constraint(c0 + n + r == e + 10 * c1)\n",
    "facile.constraint(c1 + e + o == n + 10 * c2)\n",
    "facile.constraint(c2 + s + m == o + 10 * m)\n",
    "\n",
    "if facile.solve(letters):\n",
    "    [vs, ve, vn, vd, vm, vo, vr, vy] = [x.value() for x in letters]\n",
    "    print (\"Solution found :\")\n",
    "    print\n",
    "    print (\"  %d%d%d%d\" % (vs, ve, vn, vd))\n",
    "    print (\"+ %d%d%d%d\" % (vm, vo, vr, ve))\n",
    "    print (\"------\")\n",
    "    print (\" %d%d%d%d%d\" % (vm, vo, vn, ve, vy))\n",
    "else:\n",
    "    print (\"No solution found\")"
   ]
  },
  {
   "cell_type": "markdown",
   "metadata": {},
   "source": [
    "<div class=\"alert alert-danger\">\n",
    "**Important note**: Even though it is not explicitly mentioned in the problem, **do not** forget to add the $s>0$ and $m>0$ constraints.\n",
    "</div>\n",
    "\n",
    "Look by yourself how the solution makes no sense:"
   ]
  },
  {
   "cell_type": "code",
   "execution_count": 19,
   "metadata": {},
   "outputs": [
    {
     "name": "stdout",
     "output_type": "stream",
     "text": [
      "Solution found :\n",
      "  2817\n",
      "+ 0368\n",
      "------\n",
      " 03185\n"
     ]
    }
   ],
   "source": [
    "# %load send_more_money_wrong.py\n",
    "# The list comprehension mechanism is always helpful!\n",
    "[s, e, n, d, m, o, r, y] = [facile.variable(range(10)) for i in range(8)]\n",
    "\n",
    "# A shortcut\n",
    "letters = [s, e, n, d, m, o, r, y]\n",
    "\n",
    "# Retenues\n",
    "[c0, c1, c2] = [facile.variable([0, 1]) for i in range(3)]\n",
    "\n",
    "# Constraints\n",
    "# facile.constraint(s > 0)\n",
    "# facile.constraint(m > 0)\n",
    "facile.constraint(facile.alldifferent(letters))\n",
    "facile.constraint(d + e == y + 10 * c0)\n",
    "facile.constraint(c0 + n + r == e + 10 * c1)\n",
    "facile.constraint(c1 + e + o == n + 10 * c2)\n",
    "facile.constraint(c2 + s + m == o + 10 * m)\n",
    "\n",
    "if facile.solve(letters):\n",
    "    [vs, ve, vn, vd, vm, vo, vr, vy] = [x.value() for x in letters]\n",
    "    print (\"Solution found :\")\n",
    "    print\n",
    "    print (\"  %d%d%d%d\" % (vs, ve, vn, vd))\n",
    "    print (\"+ %d%d%d%d\" % (vm, vo, vr, ve))\n",
    "    print (\"------\")\n",
    "    print (\" %d%d%d%d%d\" % (vm, vo, vn, ve, vy))\n",
    "else:\n",
    "    print (\"No solution found\")"
   ]
  },
  {
   "cell_type": "markdown",
   "metadata": {},
   "source": [
    "## Petersen's graph\n",
    "\n",
    "> Let's play with graphical possibilities of Python!\n",
    "\n",
    "This graph is a particular graph with 10 nodes and 15 edges.  \n",
    "We want to find a colouring of this graph, i.e. colour the nodes so that no two neighbouring nodes have the same colour.\n",
    "\n",
    "<div class=\"alert alert-danger\">\n",
    "**Important note**: You do not need to worry about the coordinates of each point are they are no decision variables (they just help to plot). However, you should have a look at each `plt.plot` command in `plot_edges` as they are related to a constraint you have to write.\n",
    "</div>\n",
    "<div class=\"alert alert-danger\">\n",
    "**Really important note**: Take some time on paper first to think about what to choose as **decision variables**.\n",
    "</div>"
   ]
  },
  {
   "cell_type": "code",
   "execution_count": 29,
   "metadata": {},
   "outputs": [
    {
     "data": {
      "image/png": "[encoded data removed]",
      "text/plain": [
       "<matplotlib.figure.Figure at 0x27efb77edd8>"
      ]
     },
     "metadata": {},
     "output_type": "display_data"
    }
   ],
   "source": [
    "from math import pi, cos, sin\n",
    "import matplotlib.pyplot as plt\n",
    "\n",
    "# Five angles π/2 + i * 72°\n",
    "angles = [i * 2*pi/5 + pi/2 for i in range(5)]\n",
    "\n",
    "# The five nodes in the inner circle\n",
    "points = [(cos(t), sin(t)) for t in angles]\n",
    "# The five nodes in the outer circle\n",
    "points += [(2*cos(t), 2*sin(t)) for t in angles]\n",
    "\n",
    "# Shortcut for the x-y coordinates of each node\n",
    "x = [x for x, _ in points]\n",
    "y = [y for _, y in points]\n",
    "\n",
    "def plot_edges():\n",
    "    \"\"\"Plot the graph without colouring the nodes.\"\"\"\n",
    "    plt.axes(frameon=False, aspect=1)\n",
    "    plt.xlim(-2.5, 2.5)\n",
    "    plt.ylim(-2.5, 2.5)\n",
    "\n",
    "    # Build edges between the five nodes in the inner circle\n",
    "    for i in range(5):\n",
    "        j, j_ = i, (i+2)%5 # % (modulo -> j=4, j_=0)\n",
    "        plt.plot([x[j], x[j_]], [y[j], y[j_]], color='grey')\n",
    "        \n",
    "    # Build edges between the inner and the outer circle\n",
    "    for i in range(5):\n",
    "        plt.plot([x[i], x[i+5]], [y[i], y[i+5]], color='grey')\n",
    "        \n",
    "    # Build edges between the five nodes on the outer circle\n",
    "    for i in range(5):\n",
    "        j, j_ = 5 + i, 5 + (i+1)%5 # % (modulo -> j=9, j_=5)\n",
    "        plt.plot([x[j], x[j_]], [y[j], y[j_]], color='grey')\n",
    "\n",
    "plot_edges()\n",
    "\n",
    "# Colouring nodes\n",
    "for i, (x_, y_) in enumerate(points):\n",
    "    plt.plot(x_, y_, 'ro') # 'r' pour red, 'o' pour la forme du point"
   ]
  },
  {
   "cell_type": "markdown",
   "metadata": {},
   "source": [
    "<div class=\"alert alert-warning\">\n",
    "<b>Problem #4: (easy)</b><br />\n",
    "How many colours do you need to colour Petersen's graph? Print the coloured graph.\n",
    "</div>"
   ]
  },
  {
   "cell_type": "code",
   "execution_count": 41,
   "metadata": {},
   "outputs": [
    {
     "name": "stdout",
     "output_type": "stream",
     "text": [
      "Solution found: P1=0, P2=0, P3=1, P4=1, P5=2, P6=1, P7=2, P8=0, P9=2, P10=0\n"
     ]
    },
    {
     "data": {
      "image/png": "[encoded data removed]",
      "text/plain": [
       "<matplotlib.figure.Figure at 0x27efbc09668>"
      ]
     },
     "metadata": {},
     "output_type": "display_data"
    }
   ],
   "source": [
    "plot_edges()\n",
    "[P1,P2,P3,P4,P5,P6,P7,P8,P9,P10] = [facile.variable(0, 10) for i in range(10)]\n",
    "P_list = [P1,P2,P3,P4,P5,P6,P7,P8,P9,P10]   \n",
    "\n",
    "# Build edges between the five nodes in the inner circle\n",
    "for i in range(5):\n",
    "    j, j_ = i, (i+2)%5 # % (modulo -> j=4, j_=0)\n",
    "    facile.constraint(P_list[j]!= P_list[j_])\n",
    "        \n",
    "    # Build edges between the inner and the outer circle\n",
    "for i in range(5):\n",
    "    facile.constraint(P_list[i]!= P_list[i+5])\n",
    "        \n",
    "    # Build edges between the five nodes on the outer circle\n",
    "for i in range(5):\n",
    "    j, j_ = 5 + i, 5 + (i+1)%5 # % (modulo -> j=9, j_=5)\n",
    "    facile.constraint(P_list[j]!= P_list[j_])\n",
    "\n",
    "\n",
    "if facile.solve([P1,P2,P3,P4,P5,P6,P7,P8,P9,P10]):\n",
    "    [VP1,VP2,VP3,VP4,VP5,VP6,VP7,VP8,VP9,VP10]= [x.value() for x in [P1,P2,P3,P4,P5,P6,P7,P8,P9,P10]]\n",
    "    print(\"Solution found: P1=%d, P2=%d, P3=%d, P4=%d, P5=%d, P6=%d, P7=%d, P8=%d, P9=%d, P10=%d\" % (VP1,VP2,VP3,VP4,VP5,VP6,VP7,VP8,VP9,VP10))\n",
    "else:\n",
    "     print(\"No Solution Found\")\n",
    "        \n",
    "var_list = [VP1,VP2,VP3,VP4,VP5,VP6,VP7,VP8,VP9,VP10]\n",
    "color_list = ['ro','mo','yo','bo','go']\n",
    "        \n",
    "for i, (x_, y_) in enumerate(points):\n",
    "    plt.plot(x_, y_, color_list[var_list[i]])\n",
    "    "
   ]
  },
  {
   "cell_type": "code",
   "execution_count": 30,
   "metadata": {
    "scrolled": true
   },
   "outputs": [
    {
     "data": {
      "image/png": "[encoded data removed]",
      "text/plain": [
       "<matplotlib.figure.Figure at 0x27efbc674a8>"
      ]
     },
     "metadata": {},
     "output_type": "display_data"
    }
   ],
   "source": [
    "# %load petersen.py\n",
    "colouring = [facile.variable(range(3)) for i, _ in enumerate(points)]\n",
    "colours = ['ro', 'bo', 'go']\n",
    "\n",
    "# Build edges between the five nodes in the inner circle\n",
    "for i in range(5):\n",
    "    j, j_ = i, (i+2)%5 # % (modulo -> j=4, j_=0)\n",
    "    facile.constraint(colouring[j] != colouring[j_])\n",
    "\n",
    "# Build edges between the inner and the outer circle\n",
    "for i in range(5):\n",
    "    facile.constraint(colouring[i] != colouring[i+5])\n",
    "\n",
    "# Build edges between the five nodes on the outer circle\n",
    "for i in range(5):\n",
    "    j, j_ = 5 + i, 5 + (i+1)%5 # % (modulo -> j=9, j_=5)\n",
    "    facile.constraint(colouring[j] != colouring[j_])\n",
    "\n",
    "plot_edges()\n",
    "    \n",
    "if facile.solve(colouring):\n",
    "    for i, (x_, y_) in enumerate(points):\n",
    "        plt.plot(x_, y_, colours[colouring[i].value()])\n",
    "else:\n",
    "    print (\"No solution found\")"
   ]
  },
  {
   "cell_type": "markdown",
   "metadata": {},
   "source": [
    "<div class=\"alert alert-danger\"><a href=\"#peterson-more\" data-toggle=\"collapse\">**Important note (click to unfold):**</a><br/>\n",
    "<div id=\"peterson-more\" class=\"collapse\">\n",
    "The real question to answer is \"how many colours do you need?\". You may feel the urge to model the problem with a variable representing the number of colours. But take a step back, and think differently: try to solve the problem with 1 colour, then 2 colours and you find no solution. If you try 3 colours you find a solution, so 3 is the answer you want.\n",
    "</div>\n",
    "</div>"
   ]
  },
  {
   "cell_type": "markdown",
   "metadata": {},
   "source": [
    "## The $n$-queen problem"
   ]
  },
  {
   "cell_type": "markdown",
   "metadata": {},
   "source": [
    "<div class=\"alert alert-warning\">\n",
    "<b>Problem #5: (intermediate)</b><br />\n",
    "Solve the 8-queen problem and pretty-print the solution. You may generalise your procedure for $n$ queens.\n",
    "</div>\n"
   ]
  },
  {
   "cell_type": "code",
   "execution_count": 1,
   "metadata": {},
   "outputs": [
    {
     "name": "stdout",
     "output_type": "stream",
     "text": [
      "Solution for the 8-queen problem\n",
      "o - - - - - - - - - \n",
      "- - o - - - - - - - \n",
      "- - - - - o - - - - \n",
      "- - - - - - - o - - \n",
      "- - - - - - - - - o \n",
      "- - - - o - - - - - \n",
      "- - - - - - - - o - \n",
      "- o - - - - - - - - \n",
      "- - - o - - - - - - \n",
      "- - - - - - o - - - \n"
     ]
    }
   ],
   "source": [
    "from facile import variable, alldifferent, constraint, solve\n",
    "\n",
    "\n",
    "def n_queen(n):\n",
    "    \"\"\"Solves the n-queen problem. \"\"\"\n",
    "    queens = [variable(0, n-1) for i in range(n)]\n",
    "    diag1 = [queens[i] + i for i in range(n)]\n",
    "    diag2 = [queens[i] - i for i in range(n)]\n",
    "\n",
    "    constraint(alldifferent(queens))\n",
    "    constraint(alldifferent(diag1))\n",
    "    constraint(alldifferent(diag2))\n",
    "\n",
    "    if solve(queens):\n",
    "        return [x.value() for x in queens]\n",
    "    else:\n",
    "        return None\n",
    "\n",
    "\n",
    "def print_line(val, n):\n",
    "    cumul = \"\"\n",
    "    for i in range(n):\n",
    "        if val == i:\n",
    "            cumul = cumul + \"o \"\n",
    "        else:\n",
    "            cumul = cumul + \"- \"\n",
    "    print (cumul)\n",
    "\n",
    "\n",
    "if __name__ == \"__main__\":\n",
    "    solution = n_queen(10)\n",
    "    if solution is not None:\n",
    "        print (\"Solution for the 8-queen problem\")\n",
    "        [print_line(s, 10) for s in solution]\n",
    "    else:\n",
    "        print (\"No solution found\")"
   ]
  },
  {
   "cell_type": "code",
   "execution_count": 44,
   "metadata": {},
   "outputs": [
    {
     "name": "stdout",
     "output_type": "stream",
     "text": [
      "Solution found :\n",
      "♛ - - - - - - - \n",
      "- - - - ♛ - - - \n",
      "- - - - - - - ♛ \n",
      "- - - - - ♛ - - \n",
      "- - ♛ - - - - - \n",
      "- - - - - - ♛ - \n",
      "- ♛ - - - - - - \n",
      "- - - ♛ - - - - \n"
     ]
    }
   ],
   "source": [
    "# %load nqueens.py\n",
    "def n_queens(n, *args, **kwargs):\n",
    "    queens = [facile.variable(range(n)) for i in range(n)]\n",
    "    diag1 = [queens[i] + i for i in range(n)]\n",
    "    diag2 = [queens[i] - i for i in range(n)]\n",
    "\n",
    "    facile.constraint(facile.alldifferent(queens))\n",
    "    facile.constraint(facile.alldifferent(diag1))\n",
    "    facile.constraint(facile.alldifferent(diag2))\n",
    "    \n",
    "    return facile.solve(queens, *args, **kwargs)\n",
    "    \n",
    "    \n",
    "def print_line(val, n):\n",
    "    cumul = \"\"\n",
    "    for i in range(n):\n",
    "        if val == i:\n",
    "            cumul = cumul + \"♛ \"\n",
    "        else:\n",
    "            cumul = cumul + \"- \"\n",
    "    print (cumul)\n",
    "    \n",
    "\n",
    "n = 8\n",
    "solutions = n_queens(n).solution\n",
    "\n",
    "if solutions is not None:\n",
    "    print (\"Solution found :\")\n",
    "    print\n",
    "    [print_line(s, n) for s in solutions]\n",
    "else:\n",
    "    print (\"No solution found\")\n"
   ]
  },
  {
   "cell_type": "markdown",
   "metadata": {},
   "source": [
    "<div class=\"alert alert-danger\"><a href=\"#alldifferent-more\" data-toggle=\"collapse\">**Important note (click to unfold):**</a><br/>\n",
    "<div id=\"alldifferent-more\" class=\"collapse\">\n",
    "The use of the *alldifferent* constraint is fundamental. You may think it is easier to write all the $\\neq$-constraints, but look by yourself:\n",
    "</div>\n",
    "</div>"
   ]
  },
  {
   "cell_type": "code",
   "execution_count": 50,
   "metadata": {
    "collapsed": true
   },
   "outputs": [],
   "source": [
    "# %load lazy_nqueens.py\n",
    "def lazy_n_queens(n, *args, **kwargs):\n",
    "    queens = [facile.variable(range(n)) for i in range(n)]\n",
    "    diag1 = [queens[i] + i for i in range(n)]\n",
    "    diag2 = [queens[i] - i for i in range(n)]\n",
    "\n",
    "    # facile.constraint(facile.alldifferent(queens))\n",
    "    for i, q1 in enumerate(queens):\n",
    "        for q2 in queens[i+1:]:\n",
    "            facile.constraint(q1 != q2)\n",
    "      \n",
    "    # facile.constraint(facile.alldifferent(diag1))\n",
    "    for i, q1 in enumerate(diag1):\n",
    "        for q2 in diag1[i+1:]:\n",
    "            facile.constraint(q1 != q2)\n",
    "            \n",
    "    # facile.constraint(facile.alldifferent(diag2))\n",
    "    for i, q1 in enumerate(diag2):\n",
    "        for q2 in diag2[i+1:]:\n",
    "            facile.constraint(q1 != q2)\n",
    "            \n",
    "    return facile.solve(queens, *args, **kwargs)\n"
   ]
  },
  {
   "cell_type": "code",
   "execution_count": 51,
   "metadata": {
    "scrolled": false
   },
   "outputs": [
    {
     "name": "stdout",
     "output_type": "stream",
     "text": [
      "100 loops, best of 3: 2.26 ms per loop\n"
     ]
    }
   ],
   "source": [
    "%timeit n_queens(12)"
   ]
  },
  {
   "cell_type": "code",
   "execution_count": 52,
   "metadata": {
    "scrolled": false
   },
   "outputs": [
    {
     "name": "stdout",
     "output_type": "stream",
     "text": [
      "100 loops, best of 3: 4.63 ms per loop\n"
     ]
    }
   ],
   "source": [
    "%timeit lazy_n_queens(12)"
   ]
  },
  {
   "cell_type": "markdown",
   "metadata": {},
   "source": [
    "<div class=\"alert alert-info\">\n",
    "**Let's look further into this!** (out of scope)<br />\n",
    "\n",
    "The heuristics on the choice of the next variable have a significant impact on the number of backtracks.\n",
    "</div>\n",
    "\n",
    "By default, we choose the queens in order:\n",
    "- `min_domain` chooses the next variable as the one with the smallest domain after propagation;\n",
    "- `min_min` chooses the next variable as the one with the smallest smallest value in its domain after propagation;\n",
    "- `queen` is the optimal strategy for the n-queen problem and combines the two previous strategies."
   ]
  },
  {
   "cell_type": "code",
   "execution_count": 53,
   "metadata": {
    "collapsed": true
   },
   "outputs": [],
   "source": [
    "def queen_strategy(queens):\n",
    "    if len([q.value() for q in queens if q.value() is None]) == 0:\n",
    "        return -1\n",
    "    else:\n",
    "        min_ = min((len(q.domain()), q.min(), i)\n",
    "                   for i, q in enumerate(queens) if q.value() is None)\n",
    "        return min_[2]"
   ]
  },
  {
   "cell_type": "code",
   "execution_count": 54,
   "metadata": {
    "scrolled": false
   },
   "outputs": [
    {
     "name": "stdout",
     "output_type": "stream",
     "text": [
      "Backtracks                    : 24\n",
      "Current solution              : [0, 2, 5, 7, 9, 4, ...]\n",
      "Resolution status             : True\n",
      "Resolution time               : 0.0021s\n",
      "\n",
      "Backtracks                    : 9\n",
      "Current solution              : [0, 2, 5, 8, 6, 9, ...]\n",
      "Resolution status             : True\n",
      "Resolution time               : 0.00048s\n",
      "\n",
      "Backtracks                    : 27\n",
      "Current solution              : [0, 7, 1, 8, 5, 2, ...]\n",
      "Resolution status             : True\n",
      "Resolution time               : 0.0019s\n",
      "\n",
      "Backtracks                    : 7\n",
      "Current solution              : [0, 7, 1, 8, 5, 2, ...]\n",
      "Resolution status             : True\n",
      "Resolution time               : 0.00081s\n",
      "\n"
     ]
    }
   ],
   "source": [
    "print (n_queens(10, backtrack=True))\n",
    "print (n_queens(10, strategy=\"min_domain\", backtrack=True))\n",
    "print (n_queens(10, strategy=\"min_min\", backtrack=True))\n",
    "print (n_queens(10, strategy=queen_strategy, backtrack=True))"
   ]
  },
  {
   "cell_type": "code",
   "execution_count": null,
   "metadata": {
    "collapsed": true
   },
   "outputs": [],
   "source": [
    "fig = plt.figure()\n",
    "fig.set_size_inches(8, 5.6)\n",
    "\n",
    "interval = range(2, 20)\n",
    "plt.plot(interval, [(n_queens(i, backtrack=True).backtrack) for i in interval])\n",
    "plt.plot(interval, [(n_queens(i, strategy=\"min_domain\", backtrack=True).backtrack) for i in interval])\n",
    "plt.plot(interval, [(n_queens(i, strategy=queen_strategy, backtrack=True).backtrack) for i in interval], lw=2)\n",
    "\n",
    "\n",
    "plt.axis((interval.start, interval.stop, 0, 70))\n",
    "plt.legend([\"regular\", \"min_domain\", \"queen\"])"
   ]
  },
  {
   "cell_type": "code",
   "execution_count": null,
   "metadata": {
    "collapsed": true
   },
   "outputs": [],
   "source": [
    "print (n_queens(1001, strategy=\"queen\", backtrack=True))"
   ]
  },
  {
   "cell_type": "markdown",
   "metadata": {},
   "source": [
    "### Optimisation\n",
    "\n",
    "`facile.solve` solves constraint satisfaction problem. You may solve optimisation problems with `facile.minimize`."
   ]
  },
  {
   "cell_type": "markdown",
   "metadata": {},
   "source": [
    "<div class=\"alert alert-success\">\n",
    "**Example :**\n",
    "Find $x,y \\in [0,3]$, constrained by $x \\neq y$ and so that $x + y$ is maximum.\n",
    "</div>"
   ]
  },
  {
   "cell_type": "code",
   "execution_count": 55,
   "metadata": {},
   "outputs": [
    {
     "name": "stdout",
     "output_type": "stream",
     "text": [
      "Current evaluation            : 0\n",
      "Current solution              : [1, 0]\n",
      "Resolution status             : True\n",
      "Resolution time               : 9e-05s\n",
      "\n"
     ]
    }
   ],
   "source": [
    "x, y = [facile.variable(range(5)) for i in range(2)]\n",
    "\n",
    "facile.constraint(x != y)\n",
    "\n",
    "# The second parameter represents the expression to minimize.\n",
    "sol = facile.minimize([x, y], y)\n",
    "print(sol)"
   ]
  },
  {
   "cell_type": "code",
   "execution_count": 56,
   "metadata": {},
   "outputs": [
    {
     "name": "stdout",
     "output_type": "stream",
     "text": [
      "dict_keys(['solved', 'evaluation', 'solution', 'time'])\n"
     ]
    },
    {
     "data": {
      "text/plain": [
       "(0, [1, 0])"
      ]
     },
     "execution_count": 56,
     "metadata": {},
     "output_type": "execute_result"
    }
   ],
   "source": [
    "# You may have access to different parameters in the solution\n",
    "print(sol.keys())\n",
    "\n",
    "# The most useful are probably the two following ones\n",
    "sol.evaluation, sol.solution"
   ]
  },
  {
   "cell_type": "markdown",
   "metadata": {},
   "source": [
    "<div class=\"alert alert-warning\">\n",
    "**Problem #6: (intermediate)**<br />\n",
    " A Golomb ruler is a set of integers (marks) $a_1 < \\cdots a_k$ such that all the differences $a_i - a_j$ (assuming $i > j$) are distinct.  <br />\n",
    " Clearly we may assume $a_1 = 0$.  Then $a_k$ is the length of the Golomb ruler. <br />\n",
    " For a given number of marks $n$, we want to find the shortest Golomb rulers.\n",
    "</div>\n",
    "\n",
    "*Note:* Above $n = 10$ the resolution time may be too long."
   ]
  },
  {
   "cell_type": "code",
   "execution_count": 45,
   "metadata": {},
   "outputs": [
    {
     "name": "stdout",
     "output_type": "stream",
     "text": [
      "Current evaluation            : 25\n",
      "Current solution              : [0, 1, 4, 10, 18, 23, ...]\n",
      "Resolution status             : True\n",
      "Resolution time               : 0.024s\n",
      "\n"
     ]
    }
   ],
   "source": [
    "import facile\n",
    "\n",
    "def golomb(n):\n",
    "\n",
    "    n2 = 2 ** n\n",
    "    \n",
    "    ticks = [facile.variable(0, n2) for i in range(n)]\n",
    "\n",
    "    # First tick at the start of the ruler\n",
    "    facile.constraint(ticks[0] == 0)\n",
    "\n",
    "    # Ticks are ordered\n",
    "    for i in range(n-1):\n",
    "        facile.constraint(ticks[i] < ticks[i+1])\n",
    "\n",
    "    # All distances\n",
    "    distances = []\n",
    "    for i in range(n-1):\n",
    "        for j in range(i + 1, n):\n",
    "            distances.append(ticks[j] - ticks[i])\n",
    "    facile.constraint(facile.alldifferent(distances))\n",
    "\n",
    "    for d in distances:\n",
    "        facile.constraint(d > 0)\n",
    "\n",
    "    # Breaking the symmetry\n",
    "    size = len(distances)\n",
    "    facile.constraint(distances[size - 1] > distances[0])\n",
    "\n",
    "    return (facile.minimize(ticks, ticks[n-1]))\n",
    "\n",
    "if __name__ == \"__main__\":\n",
    "    import sys\n",
    "    \n",
    "        \n",
    "    print (golomb(7))"
   ]
  },
  {
   "cell_type": "code",
   "execution_count": 47,
   "metadata": {},
   "outputs": [
    {
     "name": "stdout",
     "output_type": "stream",
     "text": [
      "Backtracks                    : 0\n",
      "Current evaluation            : 65\n",
      "Current solution              : [0, 1, 3, 7, 12, 20, ...]\n",
      "Resolution status             : False\n",
      "Resolution time               : 0.00099s\n",
      "\n",
      "Backtracks                    : 1\n",
      "Current evaluation            : 61\n",
      "Current solution              : [0, 1, 3, 7, 12, 20, ...]\n",
      "Resolution status             : False\n",
      "Resolution time               : 0.0013s\n",
      "\n",
      "Backtracks                    : 2\n",
      "Current evaluation            : 59\n",
      "Current solution              : [0, 1, 3, 7, 12, 20, ...]\n",
      "Resolution status             : False\n",
      "Resolution time               : 0.0016s\n",
      "\n",
      "Backtracks                    : 14\n",
      "Current evaluation            : 57\n",
      "Current solution              : [0, 1, 3, 7, 12, 26, ...]\n",
      "Resolution status             : False\n",
      "Resolution time               : 0.0029s\n",
      "\n",
      "Backtracks                    : 24\n",
      "Current evaluation            : 53\n",
      "Current solution              : [0, 1, 3, 7, 15, 24, ...]\n",
      "Resolution status             : False\n",
      "Resolution time               : 0.0039s\n",
      "\n",
      "Backtracks                    : 36\n",
      "Current evaluation            : 52\n",
      "Current solution              : [0, 1, 3, 7, 16, 21, ...]\n",
      "Resolution status             : False\n",
      "Resolution time               : 0.0051s\n",
      "\n",
      "Backtracks                    : 63\n",
      "Current evaluation            : 50\n",
      "Current solution              : [0, 1, 3, 7, 18, 28, ...]\n",
      "Resolution status             : False\n",
      "Resolution time               : 0.0081s\n",
      "\n",
      "Backtracks                    : 279\n",
      "Current evaluation            : 47\n",
      "Current solution              : [0, 1, 3, 10, 16, 21, ...]\n",
      "Resolution status             : False\n",
      "Resolution time               : 0.028s\n",
      "\n",
      "Backtracks                    : 827\n",
      "Current evaluation            : 45\n",
      "Current solution              : [0, 1, 4, 13, 24, 30, ...]\n",
      "Resolution status             : False\n",
      "Resolution time               : 0.086s\n",
      "\n",
      "Backtracks                    : 1154\n",
      "Current evaluation            : 44\n",
      "Current solution              : [0, 1, 5, 12, 25, 27, ...]\n",
      "Resolution status             : False\n",
      "Resolution time               : 0.11s\n",
      "\n",
      "Backtracks                    : 5915\n",
      "Current evaluation            : 44\n",
      "Current solution              : [0, 1, 5, 12, 25, 27, ...]\n",
      "Resolution status             : True\n",
      "Resolution time               : 0.77s\n",
      "\n"
     ]
    }
   ],
   "source": [
    "# %load golomb.py\n",
    "def golomb(n):\n",
    "    ticks = [facile.variable(range(2**n)) for i in range(n)]\n",
    "\n",
    "    # First tick at the start of the ruler\n",
    "    facile.constraint(ticks[0] == 0)\n",
    "\n",
    "    # Ticks are ordered\n",
    "    for i in range(n-1):\n",
    "        facile.constraint(ticks[i] < ticks[i+1])\n",
    "\n",
    "    # All distances\n",
    "    distances = []\n",
    "    for i in range(n-1):\n",
    "        for j in range(i + 1, n):\n",
    "            distances.append(facile.variable(ticks[j] - ticks[i]))\n",
    "    facile.constraint(facile.alldifferent(distances))\n",
    "\n",
    "    for d in distances:\n",
    "        facile.constraint(d > 0)\n",
    "\n",
    "    # Breaking the symmetry\n",
    "    size = len(distances)\n",
    "    facile.constraint(distances[size - 1] > distances[0])\n",
    "\n",
    "    return (facile.minimize(ticks, ticks[n-1], backtrack=True, on_solution=print))\n",
    "\n",
    "\n",
    "print (golomb(9))"
   ]
  },
  {
   "cell_type": "markdown",
   "metadata": {},
   "source": [
    "<div class=\"alert alert-danger\"><a href=\"#golomb-more\" data-toggle=\"collapse\">**Important note (click to unfold):**</a></div>\n",
    "<div id=\"golomb-more\" class=\"collapse\">\n",
    "<div class=\"alert alert-danger\">\n",
    "Note how you may build a list of expressions $t_i-t_j$ and pass it to *alldifferent*.\n",
    "</div>\n",
    "\n",
    "You may also wonder why the correction mentions a domain of variables between 0 and $2^n$.\n",
    "Consider the assignment `ticks[i] = 2**i` and see how it is a solution to our satisfaction problem. See how you write $2^i - 2^j$ in binary to convince yourself. Then our problem consists of finding the shortest Golomb rule, that is shorter than $2^n$.\n",
    "\n",
    "Obviously, you are not expected to find this trick by yourself. Initialising the domain to some *reasonably* big range is enough to solve small instances of the problem.\n",
    "\n",
    "<div class=\"alert alert-info\" style=\"margin-top: 1em\">\n",
    "**Branch & Bound**: Note how many more backtracks you need to confirm that your better evaluation is the optimal one.\n",
    "</div>\n",
    "</div>"
   ]
  },
  {
   "cell_type": "markdown",
   "metadata": {},
   "source": [
    "<div class=\"alert alert-warning\">\n",
    "<b>Problem #7: (difficult)</b><br />\n",
    "You are given an 8 pint bucket of water, and two empty buckets which can contain 5 and 3 pints respectively. You are required to divide the water into two by pouring water between buckets (that is, to end up with 4 pints in the 8 pint bucket, and 4 pints in the 5 pint bucket).<br /><br />\n",
    "\n",
    "What is the minimum number of transfers of water between buckets?\n",
    "</div>"
   ]
  },
  {
   "cell_type": "markdown",
   "metadata": {},
   "source": [
    "<div class=\"alert alert-danger\"><a href=\"#buckets-more\" data-toggle=\"collapse\">**Solution for the modelling part (click to unfold)**:</a></div>\n",
    "<div id=\"buckets-more\" class=\"collapse\">\n",
    "<div class=\"alert alert-danger\">\n",
    "The difficult part here is to get what will be the variables we manipulate. We do not know in advance the number of steps. **The number of steps determines the number of variables, so we cannot make it a variable**: we make it a **constant parameter** that we grow until we find a solution.\n",
    "</div>\n",
    "\n",
    "\n",
    "So we have the following table of variables, with the first constraints set:\n",
    "\n",
    "|       | $s_3$ | $s_5$ | $s_8$ |\n",
    "|-------|-------|-------|-------|\n",
    "| $t_1$ | 0     | 0     | 8     |\n",
    "| $t_2$ | ...   | ...   | ...   |\n",
    "| $t_3$ | ...   | ...   | ...   |\n",
    "| ...   | ...   | ...   | ...   |\n",
    "| ...   | ...   | ...   | ...   |\n",
    "| $t_n$ | 0     | 4     | 4     |\n",
    "\n",
    "\n",
    "Then the constraints that we have to program:\n",
    "\n",
    "- Between two consecutive steps, *exactly two buckets* see their water amount change;\n",
    "- At each step, the total volume of water is constant;\n",
    "- Between two consecutive steps, for all pairs of buckets:\n",
    "    - *either* one of the buckets keeps the same amount of water;\n",
    "    - *or*, one of the two buckets ends up full;\n",
    "    - *or*, one of the two buckets ends up empty.\n",
    "    \n",
    "<div class=\"alert alert-danger\" style=\"margin-top: 1em\">\n",
    "**Important note**: Writing *exactly two buckets see their water amount change* is a bit tricky.<br/>\n",
    "</div> \n",
    "\n",
    "You cannot have it with a simple disjunction of constraint (the Python operator `|` which stands for **or**).\n",
    "\n",
    "You would probably end up saying \"the first bucket stays untouched\" **or** \"the second bucket stays untouched\" **or** \"the third bucket stays untouched\" which does not capture the idea that if one bucket stays untouched, there is a movement of water between the others.\n",
    "\n",
    "The key here is to use a mechanism called *constraint reification*, that is we (automatically) associate a binary variable to a constraint, taking the value 0 if the constraint is violated in the current assignment and 1 if the constraint is true.\n",
    "\n",
    "So when we write :\n",
    "```python\n",
    "    facile.constraint(sum([e[t][i] != e[t+1][i] for i in something]) == 2)\n",
    "```\n",
    "\n",
    "that is, $$\\sum \\left(e_{t,i} \\neq e_{t+1, i} \\right) = 2$$\n",
    "we mean:\n",
    "\n",
    "- that **exactly** `2` \"$\\neq$\" constraints in the included list are verified,\n",
    "- **and** that **exactly** `(len(something) - 2)` \"$\\neq$\" constraints in the included list are violated."
   ]
  },
  {
   "cell_type": "code",
   "execution_count": 58,
   "metadata": {},
   "outputs": [
    {
     "name": "stdout",
     "output_type": "stream",
     "text": [
      "Backtracks                    : 422\n",
      "Current solution              : [8, 0, 0, 3, 5, 0, ...]\n",
      "Resolution status             : True\n",
      "Resolution time               : 0.034s\n",
      "\n",
      "[8, 0, 0]\n",
      "[3, 5, 0]\n",
      "[3, 2, 3]\n",
      "[6, 2, 0]\n",
      "[6, 0, 2]\n",
      "[1, 5, 2]\n",
      "[1, 4, 3]\n",
      "[4, 4, 0]\n"
     ]
    }
   ],
   "source": [
    "# %load buckets.py\n",
    "# Number of buckets\n",
    "nb = 3\n",
    "# Number of steps (let's say we know... :p)\n",
    "steps = 8\n",
    "# The capacity of each bucket\n",
    "capacity = [8, 5, 3]\n",
    "\n",
    "buckets = [ [facile.variable(range(capacity[b]+1)) for b in range(nb)] for i in range(steps)]\n",
    "\n",
    "facile.constraint(buckets[0][0] == 8)\n",
    "facile.constraint(buckets[0][1] == 0)\n",
    "facile.constraint(buckets[0][2] == 0)\n",
    "\n",
    "facile.constraint(buckets[steps - 1][0] == 4)\n",
    "facile.constraint(buckets[steps - 1][1] == 4)\n",
    "facile.constraint(buckets[steps - 1][2] == 0)\n",
    "\n",
    "for i in range(steps - 1):\n",
    "    # we change the contents of two buckets at a time\n",
    "    facile.constraint( sum([buckets[i][b] != buckets[i+1][b] for b in range(nb)]) == 2)\n",
    "    # we play with a constant amount of water\n",
    "    facile.constraint(sum([buckets[i][b] for b in range(nb)]) == 8)\n",
    "    for b1 in range(nb):\n",
    "        for b2 in range(b1):\n",
    "            facile.constraint(\n",
    "                # either the content of the bucket does not change\n",
    "                (buckets[i][b1] == buckets[i+1][b1]) |\n",
    "                (buckets[i][b2] == buckets[i+1][b2]) |\n",
    "                # or the bucket ends up empty or full\n",
    "                (buckets[i+1][b1] == 0) | (buckets[i+1][b1] == capacity[b1]) |\n",
    "                (buckets[i+1][b2] == 0) | (buckets[i+1][b2] == capacity[b2])\n",
    "                )\n",
    "\n",
    "print (facile.solve([b for sub in buckets for b in sub], backtrack=True))\n",
    "for sub in buckets:\n",
    "    print ([b.value() for b in sub])"
   ]
  },
  {
   "cell_type": "code",
   "execution_count": null,
   "metadata": {
    "collapsed": true
   },
   "outputs": [],
   "source": []
  }
 ],
 "metadata": {
  "kernelspec": {
   "display_name": "Python 3",
   "language": "python",
   "name": "python3"
  },
  "language_info": {
   "codemirror_mode": {
    "name": "ipython",
    "version": 3
   },
   "file_extension": ".py",
   "mimetype": "text/x-python",
   "name": "python",
   "nbconvert_exporter": "python",
   "pygments_lexer": "ipython3",
   "version": "3.6.1"
  }
 },
 "nbformat": 4,
 "nbformat_minor": 1
}
