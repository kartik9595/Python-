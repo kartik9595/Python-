{
 "cells": [
  {
   "cell_type": "code",
   "execution_count": 5,
   "metadata": {},
   "outputs": [
    {
     "ename": "SyntaxError",
     "evalue": "invalid syntax (<ipython-input-5-3131f380a1ca>, line 39)",
     "output_type": "error",
     "traceback": [
      "\u001b[1;36m  File \u001b[1;32m\"<ipython-input-5-3131f380a1ca>\"\u001b[1;36m, line \u001b[1;32m39\u001b[0m\n\u001b[1;33m    facile.minimize([xs, ys], xs + ys):\u001b[0m\n\u001b[1;37m                                       ^\u001b[0m\n\u001b[1;31mSyntaxError\u001b[0m\u001b[1;31m:\u001b[0m invalid syntax\n"
     ]
    }
   ],
   "source": [
    "import facile\n",
    "\n",
    "data = { 'sizes': [2, 1, 1, 1, 1, 1], 'bigsize': 3}\n",
    "data = { 'sizes': [10, 9, 7, 6, 4, 4, 3, 3, 3, 3, 3, 2, 2, 2, 1, 1, 1, 1, 1, 1],\n",
    "         'bigsize': 19 }\n",
    "# More examples to come\n",
    "# data = { 'sizes': [50, 42, 37, 35, 33, 29, 27, 25, 24, 19, 18, 17, 16, 15, 11,\n",
    "#                    9, 8, 7, 6, 4, 2],\n",
    "#          'bigsize': 112 },\n",
    "# data = { 'sizes': [81, 64, 56, 55, 51, 43, 39, 38, 35, 33, 31, 30, 29, 20, 18,\n",
    "#                    16, 14, 9, 8, 5, 4, 3, 2, 1],\n",
    "#          'bigsize': 175 }\n",
    "\n",
    "def tile(sizes, bigsize):\n",
    "    n = len(sizes)\n",
    "    xs = [facile.variable(0, bigsize - sizes[i]) for i in range(n)]\n",
    "    ys = [facile.variable(0, bigsize - sizes[i]) for i in range(n)]\n",
    "\n",
    "    for i in range(n-1):\n",
    "        for j in range(i+1, n):\n",
    "            c_left = xs[j] + sizes[j] <= xs[i] # j on the left of i\n",
    "            c_right = xs[j] >= xs[i] + sizes[i] # j on the right of i\n",
    "            c_below = ys[j] + sizes[j] <= ys[i] # etc.\n",
    "            c_above = ys[j] >= ys[i] + sizes[i]\n",
    "            facile.constraint(c_left | c_right | c_below | c_above)\n",
    "\n",
    "    # Redundant capacity constraint\n",
    "    def full_line(xy):\n",
    "        for i in range(bigsize):\n",
    "            # equivalent to (xy[j] >= i - sizes[j] + 1) & (xy[j] <= i)\n",
    "            intersections = \\\n",
    "                    [xy[j].in_interval(i - sizes[j] + 1, i) for j in range(n)]\n",
    "\n",
    "            scal_prod = sum([s * k for s, k in zip(sizes, intersections)])\n",
    "            facile.constraint(scal_prod == bigsize)\n",
    "\n",
    "    full_line(xs)\n",
    "    full_line(ys)\n",
    "\n",
    "    facile.minimize([xs, ys], xs + ys):\n",
    "            # if matplotlib fails for an unknown reason\n",
    "    print (e)\n",
    "    for (x, y, s) in zip(xs, ys, sizes):\n",
    "        print (x.value(), y.value(), s)\n",
    "\n",
    "\n",
    "if __name__ == '__main__':\n",
    "    tile(**data)"
   ]
  },
  {
   "cell_type": "code",
   "execution_count": null,
   "metadata": {
    "collapsed": true
   },
   "outputs": [],
   "source": []
  }
 ],
 "metadata": {
  "kernelspec": {
   "display_name": "Python 3",
   "language": "python",
   "name": "python3"
  },
  "language_info": {
   "codemirror_mode": {
    "name": "ipython",
    "version": 3
   },
   "file_extension": ".py",
   "mimetype": "text/x-python",
   "name": "python",
   "nbconvert_exporter": "python",
   "pygments_lexer": "ipython3",
   "version": "3.6.1"
  }
 },
 "nbformat": 4,
 "nbformat_minor": 2
}
